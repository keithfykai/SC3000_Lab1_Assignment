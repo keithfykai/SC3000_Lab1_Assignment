{
  "cells": [
    {
      "cell_type": "markdown",
      "id": "dbc69ca5",
      "metadata": {
        "id": "dbc69ca5"
      },
      "source": [
        "# SC3000/CZ3005 Assignment 1 - Balancing a Pole on a Cart"
      ]
    },
    {
      "cell_type": "markdown",
      "id": "09e0569f",
      "metadata": {
        "id": "09e0569f"
      },
      "source": [
        "Submission Deadline: 11:59 PM, 5 April 2024\n",
        "\n",
        "Made in Google Colab using Jupyter Notebook File so as to utilise Google's Resources and Computational Power to overcome personal device computational limitations and device specific lack of required libraries. (Devices like Macbooks and certain Windows Computers are unable to run many computationally intensive files due to software and hardware limitations)\n",
        "\n",
        "# Note on Running File: (IMPORTANT)\n",
        "If you are unable to run this file in your jupyter notebook environment, please upload this file to Google Colab and run it there after connecting to Google's Resources (RAM and Disk)."
      ]
    },
    {
      "cell_type": "markdown",
      "id": "c18b0783",
      "metadata": {
        "id": "c18b0783"
      },
      "source": [
        "## Group Members and Contributions:\n",
        "\n",
        "1. Bryan Toh Wee Sheng:\n",
        "- Researched and compared the PPO Model to the other models such as Monte Carlo, Q-Learning and DQN\n",
        "- Helped with implementation of PPO Model\n",
        "- Help test code\n",
        "\n",
        "2. Lim Shaojun (U2221218F):\n",
        "- Researched and compared the PPO Model to the other models such as Monte Carlo, Q-Learning and DQN\n",
        "- Helped with implementation of PPO Model\n",
        "- Formatted Notebook to make it look cleaner\n",
        "\n",
        "3. Keith Lim En Kai (U2220506C):\n",
        "- Researched and compared the PPO Model to the other models such as Monte Carlo, Q-Learning and DQN\n",
        "- Helped with implementation of PPO Model\n",
        "- Tested Code multiple times to make sure it runs smoothly\n"
      ]
    },
    {
      "cell_type": "markdown",
      "id": "36572ef7",
      "metadata": {
        "id": "36572ef7"
      },
      "source": [
        "# 1. Problem description: (Taken from Assignment Document)\n",
        "A pole is attached by an un-actuated joint to a cart, which moves along a frictionless track. The pendulum is placed upright on thecart and the goal is to balance the pole by applying forces in the left and right direction on the cart. In this project, you will need to develop a Reinforcement Learning (RL) agent. The trained agent makes the decision to push the cart to the left or right based on the cart position, velocity, and the pole angle, angular velocity. (4 parameters)"
      ]
    },
    {
      "cell_type": "markdown",
      "id": "432e883c",
      "metadata": {
        "id": "432e883c"
      },
      "source": [
        "![Alternative Text](https://www.gymlibrary.dev/_images/cart_pole.gif)"
      ]
    },
    {
      "cell_type": "markdown",
      "id": "fd86c998",
      "metadata": {
        "id": "fd86c998"
      },
      "source": [
        "## 1.1 Problem Instance\n",
        "You are given an instance of the cart pole environment implemented by the gym library. As with any good solution to a problem, we start with\n",
        "\n",
        "### Action Space:\n",
        "The action is an nd array with shape (1, which can take values {0,1} indicating actions pushing the cart to the left or right respectively. Note that the velocity that is reduced or increased by the applied force is not fixed and it depends on the angle the pole is pointing. The center of gravity of the pole varies the amount of energy needed to move the cart underneath it.\n",
        "\n",
        "### Observation Space:\n",
        "The observation is an nd array with shape (4,) with the values corresponding to the following positions and velocities:\n",
        "\n",
        "| Num | Observation | Min | Max |\n",
        "|---|---|---|---|\n",
        "| 1 | Cart Position | -4.8 | 4.8 |\n",
        "| 2 | Cart Velocity | -inf | inf |\n",
        "| 3 | Pole Angle | ~ -0.418 rad (-24°) | ~ 0.418 rad (24°) |\n",
        "| 4 | Pole Angular Velocity | -inf | inf |\n",
        "\n",
        "### Reward:\n",
        "Since the goal is to keep the pole upright for as long as possible, a reward of +1 for every step taken, including the termination step, is allotted.\n",
        "\n",
        "### Starting State:\n",
        "All observations are assigned a uniformly random value in **(-0.05, 0.05)**\n",
        "\n",
        "### Episode End:\n",
        "The episode ends if any one of the following occurs:\n",
        "1. Termination: Pole Angle is greater than +/- 12 Degrees == 0.209 rad\n",
        "2. Termination: Cart Position is greater than +/- 2.4 (center of the cart reaches the edge of the display)\n",
        "3. Truncation: Episode length is greater than 500."
      ]
    },
    {
      "cell_type": "markdown",
      "id": "163981e4",
      "metadata": {
        "id": "163981e4"
      },
      "source": [
        "# 2. Requirements and Guidelines\n"
      ]
    },
    {
      "cell_type": "markdown",
      "id": "QYBT-pM2RYVu",
      "metadata": {
        "id": "QYBT-pM2RYVu"
      },
      "source": [
        "## Installing Required Libraries and Dependencies:\n"
      ]
    },
    {
      "cell_type": "code",
      "execution_count": 195,
      "id": "f4AEl_koRVT4",
      "metadata": {
        "colab": {
          "base_uri": "https://localhost:8080/"
        },
        "id": "f4AEl_koRVT4",
        "outputId": "4407492a-83ce-4d64-d1d7-9f26921bdc9a"
      },
      "outputs": [
        {
          "name": "stdout",
          "output_type": "stream",
          "text": [
            "Requirement already satisfied: stable_baselines3 in /usr/local/lib/python3.10/dist-packages (2.2.1)\n",
            "Requirement already satisfied: gymnasium<0.30,>=0.28.1 in /usr/local/lib/python3.10/dist-packages (from stable_baselines3) (0.29.1)\n",
            "Requirement already satisfied: numpy>=1.20 in /usr/local/lib/python3.10/dist-packages (from stable_baselines3) (1.25.2)\n",
            "Requirement already satisfied: torch>=1.13 in /usr/local/lib/python3.10/dist-packages (from stable_baselines3) (2.2.1+cu121)\n",
            "Requirement already satisfied: cloudpickle in /usr/local/lib/python3.10/dist-packages (from stable_baselines3) (2.2.1)\n",
            "Requirement already satisfied: pandas in /usr/local/lib/python3.10/dist-packages (from stable_baselines3) (1.5.3)\n",
            "Requirement already satisfied: matplotlib in /usr/local/lib/python3.10/dist-packages (from stable_baselines3) (3.7.1)\n",
            "Requirement already satisfied: typing-extensions>=4.3.0 in /usr/local/lib/python3.10/dist-packages (from gymnasium<0.30,>=0.28.1->stable_baselines3) (4.10.0)\n",
            "Requirement already satisfied: farama-notifications>=0.0.1 in /usr/local/lib/python3.10/dist-packages (from gymnasium<0.30,>=0.28.1->stable_baselines3) (0.0.4)\n",
            "Requirement already satisfied: filelock in /usr/local/lib/python3.10/dist-packages (from torch>=1.13->stable_baselines3) (3.13.1)\n",
            "Requirement already satisfied: sympy in /usr/local/lib/python3.10/dist-packages (from torch>=1.13->stable_baselines3) (1.12)\n",
            "Requirement already satisfied: networkx in /usr/local/lib/python3.10/dist-packages (from torch>=1.13->stable_baselines3) (3.2.1)\n",
            "Requirement already satisfied: jinja2 in /usr/local/lib/python3.10/dist-packages (from torch>=1.13->stable_baselines3) (3.1.3)\n",
            "Requirement already satisfied: fsspec in /usr/local/lib/python3.10/dist-packages (from torch>=1.13->stable_baselines3) (2023.6.0)\n",
            "Requirement already satisfied: nvidia-cuda-nvrtc-cu12==12.1.105 in /usr/local/lib/python3.10/dist-packages (from torch>=1.13->stable_baselines3) (12.1.105)\n",
            "Requirement already satisfied: nvidia-cuda-runtime-cu12==12.1.105 in /usr/local/lib/python3.10/dist-packages (from torch>=1.13->stable_baselines3) (12.1.105)\n",
            "Requirement already satisfied: nvidia-cuda-cupti-cu12==12.1.105 in /usr/local/lib/python3.10/dist-packages (from torch>=1.13->stable_baselines3) (12.1.105)\n",
            "Requirement already satisfied: nvidia-cudnn-cu12==8.9.2.26 in /usr/local/lib/python3.10/dist-packages (from torch>=1.13->stable_baselines3) (8.9.2.26)\n",
            "Requirement already satisfied: nvidia-cublas-cu12==12.1.3.1 in /usr/local/lib/python3.10/dist-packages (from torch>=1.13->stable_baselines3) (12.1.3.1)\n",
            "Requirement already satisfied: nvidia-cufft-cu12==11.0.2.54 in /usr/local/lib/python3.10/dist-packages (from torch>=1.13->stable_baselines3) (11.0.2.54)\n",
            "Requirement already satisfied: nvidia-curand-cu12==10.3.2.106 in /usr/local/lib/python3.10/dist-packages (from torch>=1.13->stable_baselines3) (10.3.2.106)\n",
            "Requirement already satisfied: nvidia-cusolver-cu12==11.4.5.107 in /usr/local/lib/python3.10/dist-packages (from torch>=1.13->stable_baselines3) (11.4.5.107)\n",
            "Requirement already satisfied: nvidia-cusparse-cu12==12.1.0.106 in /usr/local/lib/python3.10/dist-packages (from torch>=1.13->stable_baselines3) (12.1.0.106)\n",
            "Requirement already satisfied: nvidia-nccl-cu12==2.19.3 in /usr/local/lib/python3.10/dist-packages (from torch>=1.13->stable_baselines3) (2.19.3)\n",
            "Requirement already satisfied: nvidia-nvtx-cu12==12.1.105 in /usr/local/lib/python3.10/dist-packages (from torch>=1.13->stable_baselines3) (12.1.105)\n",
            "Requirement already satisfied: triton==2.2.0 in /usr/local/lib/python3.10/dist-packages (from torch>=1.13->stable_baselines3) (2.2.0)\n",
            "Requirement already satisfied: nvidia-nvjitlink-cu12 in /usr/local/lib/python3.10/dist-packages (from nvidia-cusolver-cu12==11.4.5.107->torch>=1.13->stable_baselines3) (12.4.99)\n",
            "Requirement already satisfied: contourpy>=1.0.1 in /usr/local/lib/python3.10/dist-packages (from matplotlib->stable_baselines3) (1.2.0)\n",
            "Requirement already satisfied: cycler>=0.10 in /usr/local/lib/python3.10/dist-packages (from matplotlib->stable_baselines3) (0.12.1)\n",
            "Requirement already satisfied: fonttools>=4.22.0 in /usr/local/lib/python3.10/dist-packages (from matplotlib->stable_baselines3) (4.49.0)\n",
            "Requirement already satisfied: kiwisolver>=1.0.1 in /usr/local/lib/python3.10/dist-packages (from matplotlib->stable_baselines3) (1.4.5)\n",
            "Requirement already satisfied: packaging>=20.0 in /usr/local/lib/python3.10/dist-packages (from matplotlib->stable_baselines3) (24.0)\n",
            "Requirement already satisfied: pillow>=6.2.0 in /usr/local/lib/python3.10/dist-packages (from matplotlib->stable_baselines3) (9.4.0)\n",
            "Requirement already satisfied: pyparsing>=2.3.1 in /usr/local/lib/python3.10/dist-packages (from matplotlib->stable_baselines3) (3.1.2)\n",
            "Requirement already satisfied: python-dateutil>=2.7 in /usr/local/lib/python3.10/dist-packages (from matplotlib->stable_baselines3) (2.8.2)\n",
            "Requirement already satisfied: pytz>=2020.1 in /usr/local/lib/python3.10/dist-packages (from pandas->stable_baselines3) (2023.4)\n",
            "Requirement already satisfied: six>=1.5 in /usr/local/lib/python3.10/dist-packages (from python-dateutil>=2.7->matplotlib->stable_baselines3) (1.16.0)\n",
            "Requirement already satisfied: MarkupSafe>=2.0 in /usr/local/lib/python3.10/dist-packages (from jinja2->torch>=1.13->stable_baselines3) (2.1.5)\n",
            "Requirement already satisfied: mpmath>=0.19 in /usr/local/lib/python3.10/dist-packages (from sympy->torch>=1.13->stable_baselines3) (1.3.0)\n",
            "Requirement already satisfied: shimmy in /usr/local/lib/python3.10/dist-packages (1.3.0)\n",
            "Requirement already satisfied: numpy>=1.18.0 in /usr/local/lib/python3.10/dist-packages (from shimmy) (1.25.2)\n",
            "Requirement already satisfied: gymnasium>=0.27.0 in /usr/local/lib/python3.10/dist-packages (from shimmy) (0.29.1)\n",
            "Requirement already satisfied: cloudpickle>=1.2.0 in /usr/local/lib/python3.10/dist-packages (from gymnasium>=0.27.0->shimmy) (2.2.1)\n",
            "Requirement already satisfied: typing-extensions>=4.3.0 in /usr/local/lib/python3.10/dist-packages (from gymnasium>=0.27.0->shimmy) (4.10.0)\n",
            "Requirement already satisfied: farama-notifications>=0.0.1 in /usr/local/lib/python3.10/dist-packages (from gymnasium>=0.27.0->shimmy) (0.0.4)\n"
          ]
        }
      ],
      "source": [
        "!pip install stable_baselines3\n",
        "!pip install shimmy\n",
        "\n",
        "import gym\n",
        "from gym.wrappers import RecordVideo\n",
        "from stable_baselines3 import PPO\n",
        "from stable_baselines3.common.evaluation import evaluate_policy\n",
        "import matplotlib.pyplot as plt\n",
        "import torch\n",
        "import glob\n",
        "from IPython.display import HTML\n",
        "from IPython import display as ipythondisplay\n",
        "import io\n",
        "import base64\n",
        "\n",
        "def show_video():\n",
        "    ipythondisplay.clear_output(wait=True)\n",
        "    mp4list = glob.glob('video/*.mp4')\n",
        "    if len(mp4list) > 0:\n",
        "        mp4 = mp4list[0]\n",
        "        video = io.open(mp4, 'r+b').read()\n",
        "        encoded = base64.b64encode(video)\n",
        "        ipythondisplay.display(HTML(data='''<video alt=\"test\" autoplay\n",
        "                     loop controls style=\"height: 400px;\">\n",
        "                     <source src=\"data:video/mp4;base64,{0}\" type=\"video/mp4\" />\n",
        "                     </video>'''.format(encoded.decode('ascii'))))\n",
        "    else:\n",
        "        print(\"Could not find video\")"
      ]
    },
    {
      "cell_type": "markdown",
      "id": "0ZW-vLQLrfz4",
      "metadata": {
        "id": "0ZW-vLQLrfz4"
      },
      "source": [
        "### Loading Cartpole Environment: (Mini Tutorial taken from example code)"
      ]
    },
    {
      "cell_type": "code",
      "execution_count": 196,
      "id": "bbgcQ2LNrwUJ",
      "metadata": {
        "colab": {
          "base_uri": "https://localhost:8080/"
        },
        "id": "bbgcQ2LNrwUJ",
        "outputId": "9766468c-67a8-4a0c-bb4b-41851cf11fa5"
      },
      "outputs": [
        {
          "name": "stdout",
          "output_type": "stream",
          "text": [
            "Discrete(2)\n",
            "Box([-4.8000002e+00 -3.4028235e+38 -4.1887903e-01 -3.4028235e+38], [4.8000002e+00 3.4028235e+38 4.1887903e-01 3.4028235e+38], (4,), float32)\n"
          ]
        }
      ],
      "source": [
        "env = gym.make(\"CartPole-v1\")\n",
        "\n",
        "# Taking a look at the action space\n",
        "print(env.action_space)\n",
        "\n",
        "# Taking a look at the observation space\n",
        "print(env.observation_space)"
      ]
    },
    {
      "cell_type": "markdown",
      "id": "rpgBwtRIsQwl",
      "metadata": {
        "id": "rpgBwtRIsQwl"
      },
      "source": [
        "Based on the action_space, Discrete(2) means that there are 2 valid discrete actions: 0 and 1. Where 0 represents left while 1 represents right.\n",
        "\n",
        "Based on the observation_space, the first two arrays define the min and max values of the 4 observed values, corresponding to cart position, velocity and pole angle, angular velocity."
      ]
    },
    {
      "cell_type": "code",
      "execution_count": 197,
      "id": "2zQtM1NMsPsY",
      "metadata": {
        "colab": {
          "base_uri": "https://localhost:8080/"
        },
        "id": "2zQtM1NMsPsY",
        "outputId": "909fd7fa-299a-4386-e4bf-c68abfd4024f"
      },
      "outputs": [
        {
          "name": "stdout",
          "output_type": "stream",
          "text": [
            "Initial Observations:  [ 0.01880994 -0.02000807  0.02592086 -0.04148376]\n"
          ]
        }
      ],
      "source": [
        "# We call each round of the pole-balancing game an \"episode\". At the start of each episode, make sure the environment is reset, which chooses a random initial state,\n",
        "# e.g., pole slightly tilted to the right. This initialization can be achieved by the code below, which returns the observation of the initial state.\n",
        "observation = env.reset()\n",
        "\n",
        "# Taking a look at the initial observations:\n",
        "print(\"Initial Observations: \", observation)"
      ]
    },
    {
      "cell_type": "markdown",
      "id": "NZAUTrl4t5FV",
      "metadata": {
        "id": "NZAUTrl4t5FV"
      },
      "source": [
        "We call each round of the pole-balancing game an \"episode\". At the start of each episode, make sure the environment is reset, which chooses a random initial state, e.g., pole slightly tilted to the right. This initialization can be achieved by the code below, which returns the observation of the initial state."
      ]
    },
    {
      "cell_type": "code",
      "execution_count": 198,
      "id": "PZDk4vEIt99E",
      "metadata": {
        "colab": {
          "base_uri": "https://localhost:8080/"
        },
        "id": "PZDk4vEIt99E",
        "outputId": "eca484be-1193-47a3-b687-01248f35f68d"
      },
      "outputs": [
        {
          "name": "stdout",
          "output_type": "stream",
          "text": [
            "New observations after choosing action 0: [ 0.01840977 -0.21549195  0.02509119  0.25926343]\n",
            "Reward for this step: 1.0\n",
            "Is this round done? False\n"
          ]
        }
      ],
      "source": [
        "observation, reward, done, info = env.step(0)[:4]\n",
        "print(\"New observations after choosing action 0:\", observation)\n",
        "print(\"Reward for this step:\", reward)\n",
        "print(\"Is this round done?\", done)"
      ]
    },
    {
      "cell_type": "markdown",
      "id": "iymmZ00_uGf-",
      "metadata": {
        "id": "iymmZ00_uGf-"
      },
      "source": [
        "### Example of Game Run using Naive Strategy:\n",
        "Now we can play a full round of the game using a naive strategy (always choosing action 0), and show the cumulative reward in the round. Note that reward returned by env.step(*) corresponds to the reward for current step. So we have to accumulate the reward for each step. Clearly, the naive strategy performs poorly by surviving only a dozen of steps."
      ]
    },
    {
      "cell_type": "code",
      "execution_count": 199,
      "id": "9DkU8EryuNH7",
      "metadata": {
        "colab": {
          "base_uri": "https://localhost:8080/"
        },
        "id": "9DkU8EryuNH7",
        "outputId": "c9b05d49-3479-4ed9-f57c-6b6363766328"
      },
      "outputs": [
        {
          "name": "stdout",
          "output_type": "stream",
          "text": [
            "Cumulative reward for this round: 8.0\n"
          ]
        }
      ],
      "source": [
        "observation = env.reset()\n",
        "cumulative_reward = 0\n",
        "done = False\n",
        "while not done:\n",
        "    observation, reward, done, info = env.step(0)[:4]\n",
        "    cumulative_reward += reward\n",
        "print(\"Cumulative reward for this round:\", cumulative_reward)"
      ]
    },
    {
      "cell_type": "markdown",
      "id": "vKsYvLdhIPHJ",
      "metadata": {
        "id": "vKsYvLdhIPHJ"
      },
      "source": []
    },
    {
      "cell_type": "markdown",
      "id": "hX4j4MG8RTF0",
      "metadata": {
        "id": "hX4j4MG8RTF0"
      },
      "source": [
        "## 2.1 Tasks and Marking Criteria\n",
        "Now that we have taken a look at how the cartpole game works, we can begin to start using Reinforcement Learning Agents to tackle it.\n",
        "\n",
        "### Task 1: Development of an Reinforcement Learning (RL) Agent. (30 Marks)\n",
        "Demonstrate the correctness of the implementation by sampling a random state from the cart pole environment, inputting to the agent, and outputting a chosen action. Print the values of the state and chosen action in the Jupyter Notebook.\n"
      ]
    },
    {
      "cell_type": "markdown",
      "id": "axr6wlcnIhI1",
      "metadata": {
        "id": "axr6wlcnIhI1"
      },
      "source": [
        "# Research\n",
        "\n",
        "After extensive researching and comparing various reinforcement learning agents such as Monte Carlo, Q-Learning from the Lectures and Deep Q-Learning and Proximal Policy Optimization from our findings, we have decided to go with Proximal Policy Optimization (PPO) as we believe it provides the most stable and simple whilst also being the most sample efficient due the simple nature of the cartpole enviroment.\n",
        "\n",
        "Due to time constraints, we could not explore every single Reinforcement Learning Agent out there, so there may more efficient or better ways to tackle the cartpole problem and we want to recognize that.\n",
        "\n",
        "With that out of the way, let us dive into the implementation.\n",
        "\n",
        "---\n"
      ]
    },
    {
      "cell_type": "markdown",
      "id": "6w2QelDVxQ4Z",
      "metadata": {
        "id": "6w2QelDVxQ4Z"
      },
      "source": [
        "# PPO (Proximal Policy Optimization)\n",
        "## What is PPO?\n",
        "\n",
        "Proximal policy optimization (PPO) is an algorithm in the field of reinforcement learning that trains a computer agent's decision function to accomplish difficult tasks.\n",
        "\n",
        "## How it Works\n",
        "\n",
        "PPO is classified as a **policy gradient method** for training an agent's policy network. The policy network is the function that the agent uses to make decisions. Essentially, to train the right policy network, PPO takes a small policy update (step size), so the agent can reliably reach the optimal solution. A too-big step may direct policy in the false direction, thus having little possibility of recovery; a too-small step lowers overall efficiency. Consequently, PPO implements a clip function that constrains the policy update of an agent from being too large or too small. - Wikipedia\n"
      ]
    },
    {
      "cell_type": "markdown",
      "id": "wJhdQfweMGFe",
      "metadata": {
        "id": "wJhdQfweMGFe"
      },
      "source": [
        "## PPO Algorithm"
      ]
    },
    {
      "cell_type": "markdown",
      "id": "o3bohKKGIQ5B",
      "metadata": {
        "id": "o3bohKKGIQ5B"
      },
      "source": [
        "\n",
        "![Alternative Text](https://spinningup.openai.com/en/latest/_images/math/e62a8971472597f4b014c2da064f636ffe365ba3.svg)"
      ]
    },
    {
      "cell_type": "markdown",
      "id": "IkyaaGcaMlMv",
      "metadata": {
        "id": "IkyaaGcaMlMv"
      },
      "source": [
        "-- OpenAI\n",
        "\n",
        "For our implementation of the PPO Model, we will be using OpenAI Baseline's implementation of it. This is imported from the stable_baselines3 library. References to this library and its implementation code will be attached below."
      ]
    },
    {
      "cell_type": "markdown",
      "id": "Uc9v_HQZOij6",
      "metadata": {
        "id": "Uc9v_HQZOij6"
      },
      "source": [
        "The PPO Agent or Model takes in the following parameters:\n",
        "\n",
        "1. policy: This specifies the type of policy architecture to be used by the PPO algorithm. Common choices include 'MlpPolicy' for a Multi-Layer Perceptron (MLP) policy network and 'CnnPolicy' for a Convolutional Neural Network (CNN) policy network. In our case, we will be using MLP to train our PPO Agent as specified as 'MlpPolicy' in the first parameter.\n",
        "\n",
        "2. env: This is the environment in which the agent will interact and learn. The env variable should be an instance of a Gym environment, which represents the simulation or task that the agent will learn to solve. This is represented and passed into the agent as the 2nd parameter as 'env'.\n",
        "\n",
        "3. verbose: This parameter controls the verbosity of the output during training. Setting verbose=1 means that training progress will be printed to the console, providing information about the training process. By default, verbose is often set to 0 for no output. However, in our case to show the training process we will assign verbose=1.\n",
        "\n",
        "4. device: This parameter specifies the device on which the computations will be performed. It can be set to \"cpu\" or \"cuda\" (if you have an Nvidia GPU installed). Alternatively, setting device=\"auto\" allows Stable Baselines to automatically choose the device based on availability. If a GPU is available, it will use the GPU for computations; otherwise, it will use the CPU. (GPUs are usually more optimal for training RL Agents due to their computational power and ability to parallel process)\n",
        "\n",
        "A common Multi-Layer Perceptron Model: (Taken from Analytics Vidhya)"
      ]
    },
    {
      "cell_type": "markdown",
      "id": "1ABpUsGMPIOB",
      "metadata": {
        "id": "1ABpUsGMPIOB"
      },
      "source": [
        "![Alternative Text](https://cdn.analyticsvidhya.com/wp-content/uploads/2020/02/ANN-Graph.gif)"
      ]
    },
    {
      "cell_type": "code",
      "execution_count": 200,
      "id": "mScheO5c0T-4",
      "metadata": {
        "colab": {
          "base_uri": "https://localhost:8080/"
        },
        "id": "mScheO5c0T-4",
        "outputId": "3fc5add7-78cb-4104-c882-2215ff9d6250"
      },
      "outputs": [
        {
          "name": "stdout",
          "output_type": "stream",
          "text": [
            "Using cpu device\n",
            "Wrapping the env with a `Monitor` wrapper\n",
            "Wrapping the env in a DummyVecEnv.\n"
          ]
        },
        {
          "name": "stderr",
          "output_type": "stream",
          "text": [
            "/usr/local/lib/python3.10/dist-packages/stable_baselines3/common/vec_env/patch_gym.py:49: UserWarning: You provided an OpenAI Gym environment. We strongly recommend transitioning to Gymnasium environments. Stable-Baselines3 is automatically wrapping your environments in a compatibility layer, which could potentially cause issues.\n",
            "  warnings.warn(\n"
          ]
        }
      ],
      "source": [
        "class CustomCartPoleEnv(gym.Env):\n",
        "    def __init__(self):\n",
        "        super(CustomCartPoleEnv, self).__init__()\n",
        "\n",
        "        # Create the CartPole environment\n",
        "        self.env = gym.make('CartPole-v1')\n",
        "\n",
        "        # Define observation space and action space\n",
        "        self.observation_space = self.env.observation_space\n",
        "        self.action_space = self.env.action_space\n",
        "\n",
        "    def reset(self):\n",
        "        # Reset the environment\n",
        "        return self.env.reset()\n",
        "\n",
        "    def step(self, action):\n",
        "        # Take a step in the environment\n",
        "        return self.env.step(action)\n",
        "\n",
        "    def render(self, mode='human'):\n",
        "        # Render the environment\n",
        "        return self.env.render(mode)\n",
        "\n",
        "    def close(self):\n",
        "        # Close the environment\n",
        "        return self.env.close()\n",
        "\n",
        "# Create an instance of the custom CartPole environment\n",
        "env = CustomCartPoleEnv()\n",
        "\n",
        "# Create the model and train using PPO algorithm\n",
        "model = PPO('MlpPolicy', env, verbose=1, device=\"auto\")\n"
      ]
    },
    {
      "cell_type": "code",
      "execution_count": 201,
      "id": "Al0XbLBWRGHW",
      "metadata": {
        "colab": {
          "base_uri": "https://localhost:8080/",
          "height": 1000,
          "referenced_widgets": [
            "41b8f77b997b4c0bb3bbb52227ccccf7",
            "3555e7204afd485eb75edd741bd1e207"
          ]
        },
        "id": "Al0XbLBWRGHW",
        "outputId": "88bbd77d-d467-4680-a471-ef92cc408842"
      },
      "outputs": [
        {
          "data": {
            "application/vnd.jupyter.widget-view+json": {
              "model_id": "41b8f77b997b4c0bb3bbb52227ccccf7",
              "version_major": 2,
              "version_minor": 0
            },
            "text/plain": [
              "Output()"
            ]
          },
          "metadata": {},
          "output_type": "display_data"
        },
        {
          "name": "stdout",
          "output_type": "stream",
          "text": [
            "---------------------------------\n",
            "| rollout/           |          |\n",
            "|    ep_len_mean     | 21.8     |\n",
            "|    ep_rew_mean     | 21.8     |\n",
            "| time/              |          |\n",
            "|    fps             | 555      |\n",
            "|    iterations      | 1        |\n",
            "|    time_elapsed    | 3        |\n",
            "|    total_timesteps | 2048     |\n",
            "---------------------------------\n",
            "-----------------------------------------\n",
            "| rollout/                |             |\n",
            "|    ep_len_mean          | 26.6        |\n",
            "|    ep_rew_mean          | 26.6        |\n",
            "| time/                   |             |\n",
            "|    fps                  | 354         |\n",
            "|    iterations           | 2           |\n",
            "|    time_elapsed         | 11          |\n",
            "|    total_timesteps      | 4096        |\n",
            "| train/                  |             |\n",
            "|    approx_kl            | 0.009057311 |\n",
            "|    clip_fraction        | 0.112       |\n",
            "|    clip_range           | 0.2         |\n",
            "|    entropy_loss         | -0.686      |\n",
            "|    explained_variance   | -0.00343    |\n",
            "|    learning_rate        | 0.0003      |\n",
            "|    loss                 | 6.95        |\n",
            "|    n_updates            | 10          |\n",
            "|    policy_gradient_loss | -0.0171     |\n",
            "|    value_loss           | 51.1        |\n",
            "-----------------------------------------\n",
            "-----------------------------------------\n",
            "| rollout/                |             |\n",
            "|    ep_len_mean          | 34.9        |\n",
            "|    ep_rew_mean          | 34.9        |\n",
            "| time/                   |             |\n",
            "|    fps                  | 278         |\n",
            "|    iterations           | 3           |\n",
            "|    time_elapsed         | 22          |\n",
            "|    total_timesteps      | 6144        |\n",
            "| train/                  |             |\n",
            "|    approx_kl            | 0.009650348 |\n",
            "|    clip_fraction        | 0.07        |\n",
            "|    clip_range           | 0.2         |\n",
            "|    entropy_loss         | -0.663      |\n",
            "|    explained_variance   | 0.131       |\n",
            "|    learning_rate        | 0.0003      |\n",
            "|    loss                 | 9.2         |\n",
            "|    n_updates            | 20          |\n",
            "|    policy_gradient_loss | -0.0189     |\n",
            "|    value_loss           | 34          |\n",
            "-----------------------------------------\n",
            "---------------------------------------\n",
            "| rollout/                |           |\n",
            "|    ep_len_mean          | 46.1      |\n",
            "|    ep_rew_mean          | 46.1      |\n",
            "| time/                   |           |\n",
            "|    fps                  | 268       |\n",
            "|    iterations           | 4         |\n",
            "|    time_elapsed         | 30        |\n",
            "|    total_timesteps      | 8192      |\n",
            "| train/                  |           |\n",
            "|    approx_kl            | 0.0085369 |\n",
            "|    clip_fraction        | 0.0862    |\n",
            "|    clip_range           | 0.2       |\n",
            "|    entropy_loss         | -0.629    |\n",
            "|    explained_variance   | 0.306     |\n",
            "|    learning_rate        | 0.0003    |\n",
            "|    loss                 | 14.1      |\n",
            "|    n_updates            | 30        |\n",
            "|    policy_gradient_loss | -0.0197   |\n",
            "|    value_loss           | 48.2      |\n",
            "---------------------------------------\n",
            "-----------------------------------------\n",
            "| rollout/                |             |\n",
            "|    ep_len_mean          | 61.7        |\n",
            "|    ep_rew_mean          | 61.7        |\n",
            "| time/                   |             |\n",
            "|    fps                  | 295         |\n",
            "|    iterations           | 5           |\n",
            "|    time_elapsed         | 34          |\n",
            "|    total_timesteps      | 10240       |\n",
            "| train/                  |             |\n",
            "|    approx_kl            | 0.010333834 |\n",
            "|    clip_fraction        | 0.0867      |\n",
            "|    clip_range           | 0.2         |\n",
            "|    entropy_loss         | -0.603      |\n",
            "|    explained_variance   | 0.205       |\n",
            "|    learning_rate        | 0.0003      |\n",
            "|    loss                 | 28.1        |\n",
            "|    n_updates            | 40          |\n",
            "|    policy_gradient_loss | -0.0171     |\n",
            "|    value_loss           | 64.6        |\n",
            "-----------------------------------------\n",
            "------------------------------------------\n",
            "| rollout/                |              |\n",
            "|    ep_len_mean          | 78.8         |\n",
            "|    ep_rew_mean          | 78.8         |\n",
            "| time/                   |              |\n",
            "|    fps                  | 308          |\n",
            "|    iterations           | 6            |\n",
            "|    time_elapsed         | 39           |\n",
            "|    total_timesteps      | 12288        |\n",
            "| train/                  |              |\n",
            "|    approx_kl            | 0.0063965833 |\n",
            "|    clip_fraction        | 0.0397       |\n",
            "|    clip_range           | 0.2          |\n",
            "|    entropy_loss         | -0.591       |\n",
            "|    explained_variance   | 0.272        |\n",
            "|    learning_rate        | 0.0003       |\n",
            "|    loss                 | 21           |\n",
            "|    n_updates            | 50           |\n",
            "|    policy_gradient_loss | -0.00945     |\n",
            "|    value_loss           | 67.3         |\n",
            "------------------------------------------\n",
            "-----------------------------------------\n",
            "| rollout/                |             |\n",
            "|    ep_len_mean          | 94.5        |\n",
            "|    ep_rew_mean          | 94.5        |\n",
            "| time/                   |             |\n",
            "|    fps                  | 325         |\n",
            "|    iterations           | 7           |\n",
            "|    time_elapsed         | 44          |\n",
            "|    total_timesteps      | 14336       |\n",
            "| train/                  |             |\n",
            "|    approx_kl            | 0.004952423 |\n",
            "|    clip_fraction        | 0.0381      |\n",
            "|    clip_range           | 0.2         |\n",
            "|    entropy_loss         | -0.588      |\n",
            "|    explained_variance   | 0.631       |\n",
            "|    learning_rate        | 0.0003      |\n",
            "|    loss                 | 37.1        |\n",
            "|    n_updates            | 60          |\n",
            "|    policy_gradient_loss | -0.00808    |\n",
            "|    value_loss           | 49.9        |\n",
            "-----------------------------------------\n",
            "-----------------------------------------\n",
            "| rollout/                |             |\n",
            "|    ep_len_mean          | 112         |\n",
            "|    ep_rew_mean          | 112         |\n",
            "| time/                   |             |\n",
            "|    fps                  | 338         |\n",
            "|    iterations           | 8           |\n",
            "|    time_elapsed         | 48          |\n",
            "|    total_timesteps      | 16384       |\n",
            "| train/                  |             |\n",
            "|    approx_kl            | 0.007255205 |\n",
            "|    clip_fraction        | 0.0223      |\n",
            "|    clip_range           | 0.2         |\n",
            "|    entropy_loss         | -0.583      |\n",
            "|    explained_variance   | 0.782       |\n",
            "|    learning_rate        | 0.0003      |\n",
            "|    loss                 | 6.45        |\n",
            "|    n_updates            | 70          |\n",
            "|    policy_gradient_loss | -0.00303    |\n",
            "|    value_loss           | 30.2        |\n",
            "-----------------------------------------\n",
            "------------------------------------------\n",
            "| rollout/                |              |\n",
            "|    ep_len_mean          | 149          |\n",
            "|    ep_rew_mean          | 149          |\n",
            "| time/                   |              |\n",
            "|    fps                  | 353          |\n",
            "|    iterations           | 10           |\n",
            "|    time_elapsed         | 57           |\n",
            "|    total_timesteps      | 20480        |\n",
            "| train/                  |              |\n",
            "|    approx_kl            | 0.0041035907 |\n",
            "|    clip_fraction        | 0.0437       |\n",
            "|    clip_range           | 0.2          |\n",
            "|    entropy_loss         | -0.574       |\n",
            "|    explained_variance   | 0.938        |\n",
            "|    learning_rate        | 0.0003       |\n",
            "|    loss                 | 1.33         |\n",
            "|    n_updates            | 90           |\n",
            "|    policy_gradient_loss | -0.00668     |\n",
            "|    value_loss           | 14.3         |\n",
            "------------------------------------------\n",
            "-----------------------------------------\n",
            "| rollout/                |             |\n",
            "|    ep_len_mean          | 169         |\n",
            "|    ep_rew_mean          | 169         |\n",
            "| time/                   |             |\n",
            "|    fps                  | 361         |\n",
            "|    iterations           | 11          |\n",
            "|    time_elapsed         | 62          |\n",
            "|    total_timesteps      | 22528       |\n",
            "| train/                  |             |\n",
            "|    approx_kl            | 0.006680569 |\n",
            "|    clip_fraction        | 0.036       |\n",
            "|    clip_range           | 0.2         |\n",
            "|    entropy_loss         | -0.569      |\n",
            "|    explained_variance   | 0.861       |\n",
            "|    learning_rate        | 0.0003      |\n",
            "|    loss                 | 25.4        |\n",
            "|    n_updates            | 100         |\n",
            "|    policy_gradient_loss | -0.00427    |\n",
            "|    value_loss           | 27.5        |\n",
            "-----------------------------------------\n",
            "-----------------------------------------\n",
            "| rollout/                |             |\n",
            "|    ep_len_mean          | 186         |\n",
            "|    ep_rew_mean          | 186         |\n",
            "| time/                   |             |\n",
            "|    fps                  | 364         |\n",
            "|    iterations           | 12          |\n",
            "|    time_elapsed         | 67          |\n",
            "|    total_timesteps      | 24576       |\n",
            "| train/                  |             |\n",
            "|    approx_kl            | 0.004149856 |\n",
            "|    clip_fraction        | 0.0289      |\n",
            "|    clip_range           | 0.2         |\n",
            "|    entropy_loss         | -0.541      |\n",
            "|    explained_variance   | 0.659       |\n",
            "|    learning_rate        | 0.0003      |\n",
            "|    loss                 | 6.66        |\n",
            "|    n_updates            | 110         |\n",
            "|    policy_gradient_loss | -0.0019     |\n",
            "|    value_loss           | 37.9        |\n",
            "-----------------------------------------\n",
            "-----------------------------------------\n",
            "| rollout/                |             |\n",
            "|    ep_len_mean          | 201         |\n",
            "|    ep_rew_mean          | 201         |\n",
            "| time/                   |             |\n",
            "|    fps                  | 371         |\n",
            "|    iterations           | 13          |\n",
            "|    time_elapsed         | 71          |\n",
            "|    total_timesteps      | 26624       |\n",
            "| train/                  |             |\n",
            "|    approx_kl            | 0.008213279 |\n",
            "|    clip_fraction        | 0.0524      |\n",
            "|    clip_range           | 0.2         |\n",
            "|    entropy_loss         | -0.52       |\n",
            "|    explained_variance   | 0.459       |\n",
            "|    learning_rate        | 0.0003      |\n",
            "|    loss                 | 1.77        |\n",
            "|    n_updates            | 120         |\n",
            "|    policy_gradient_loss | -0.0038     |\n",
            "|    value_loss           | 22.4        |\n",
            "-----------------------------------------\n",
            "------------------------------------------\n",
            "| rollout/                |              |\n",
            "|    ep_len_mean          | 222          |\n",
            "|    ep_rew_mean          | 222          |\n",
            "| time/                   |              |\n",
            "|    fps                  | 372          |\n",
            "|    iterations           | 14           |\n",
            "|    time_elapsed         | 76           |\n",
            "|    total_timesteps      | 28672        |\n",
            "| train/                  |              |\n",
            "|    approx_kl            | 0.0058461362 |\n",
            "|    clip_fraction        | 0.0467       |\n",
            "|    clip_range           | 0.2          |\n",
            "|    entropy_loss         | -0.532       |\n",
            "|    explained_variance   | 0.913        |\n",
            "|    learning_rate        | 0.0003       |\n",
            "|    loss                 | 1.08         |\n",
            "|    n_updates            | 130          |\n",
            "|    policy_gradient_loss | -0.0068      |\n",
            "|    value_loss           | 6.79         |\n",
            "------------------------------------------\n",
            "----------------------------------------\n",
            "| rollout/                |            |\n",
            "|    ep_len_mean          | 239        |\n",
            "|    ep_rew_mean          | 239        |\n",
            "| time/                   |            |\n",
            "|    fps                  | 376        |\n",
            "|    iterations           | 15         |\n",
            "|    time_elapsed         | 81         |\n",
            "|    total_timesteps      | 30720      |\n",
            "| train/                  |            |\n",
            "|    approx_kl            | 0.00429362 |\n",
            "|    clip_fraction        | 0.0395     |\n",
            "|    clip_range           | 0.2        |\n",
            "|    entropy_loss         | -0.506     |\n",
            "|    explained_variance   | 0.237      |\n",
            "|    learning_rate        | 0.0003     |\n",
            "|    loss                 | 0.279      |\n",
            "|    n_updates            | 140        |\n",
            "|    policy_gradient_loss | -0.00186   |\n",
            "|    value_loss           | 1.7        |\n",
            "----------------------------------------\n"
          ]
        },
        {
          "data": {
            "text/html": [
              "<pre style=\"white-space:pre;overflow-x:auto;line-height:normal;font-family:Menlo,'DejaVu Sans Mono',consolas,'Courier New',monospace\"></pre>\n"
            ],
            "text/plain": []
          },
          "metadata": {},
          "output_type": "display_data"
        },
        {
          "data": {
            "text/html": [
              "<pre style=\"white-space:pre;overflow-x:auto;line-height:normal;font-family:Menlo,'DejaVu Sans Mono',consolas,'Courier New',monospace\">\n",
              "</pre>\n"
            ],
            "text/plain": [
              "\n"
            ]
          },
          "metadata": {},
          "output_type": "display_data"
        },
        {
          "data": {
            "text/plain": [
              "<stable_baselines3.ppo.ppo.PPO at 0x7f83c31b2d10>"
            ]
          },
          "execution_count": 201,
          "metadata": {},
          "output_type": "execute_result"
        }
      ],
      "source": [
        "# total_timesteps is the number of env.steps(action) being run during training\n",
        "model.learn(total_timesteps=30000, progress_bar=True)"
      ]
    },
    {
      "cell_type": "code",
      "execution_count": 202,
      "id": "MHsvqv4Gv1_5",
      "metadata": {
        "colab": {
          "base_uri": "https://localhost:8080/"
        },
        "id": "MHsvqv4Gv1_5",
        "outputId": "8969983b-dc6f-48af-c840-502b9fc6a3ce"
      },
      "outputs": [
        {
          "name": "stdout",
          "output_type": "stream",
          "text": [
            "Observation space is: [-0.00928894  0.0319779   0.0173467   0.04892632]\n",
            "Action taken is: 0\n"
          ]
        }
      ],
      "source": [
        "# Reset the environment and get initial observation\n",
        "observation = env.reset()\n",
        "\n",
        "# Get the action predicted by the model for the current observation\n",
        "action, _ = model.predict(observation)\n",
        "\n",
        "# Print the observation space and the action taken\n",
        "print(\"Observation space is:\", observation)\n",
        "print(\"Action taken is:\", action)\n"
      ]
    },
    {
      "cell_type": "markdown",
      "id": "45fe5c8b",
      "metadata": {
        "id": "45fe5c8b"
      },
      "source": [
        "### Task 2: Demonstrate the effectiveness of the RL Agent (40 Marks)\n",
        "Run for 100 episodes (reset the enviroment at the beginning of each episode) and plot the cumulative reward against all episodes in the Jupyter Notebook. Print the average reward over the 100 episodes. The average reward should be larger than **195**."
      ]
    },
    {
      "cell_type": "code",
      "execution_count": 203,
      "id": "Y0fJDxhB0nwG",
      "metadata": {
        "colab": {
          "base_uri": "https://localhost:8080/"
        },
        "id": "Y0fJDxhB0nwG",
        "outputId": "36812139-d176-46ad-9ad9-a9f351c83b99"
      },
      "outputs": [
        {
          "name": "stdout",
          "output_type": "stream",
          "text": [
            "Episode: 1; Score: 500.0\n",
            "Episode: 2; Score: 500.0\n",
            "Episode: 3; Score: 500.0\n",
            "Episode: 4; Score: 500.0\n",
            "Episode: 5; Score: 500.0\n",
            "Episode: 6; Score: 500.0\n",
            "Episode: 7; Score: 500.0\n",
            "Episode: 8; Score: 500.0\n",
            "Episode: 9; Score: 500.0\n",
            "Episode: 10; Score: 500.0\n",
            "Episode: 11; Score: 500.0\n",
            "Episode: 12; Score: 500.0\n",
            "Episode: 13; Score: 500.0\n",
            "Episode: 14; Score: 500.0\n",
            "Episode: 15; Score: 500.0\n",
            "Episode: 16; Score: 500.0\n",
            "Episode: 17; Score: 500.0\n",
            "Episode: 18; Score: 500.0\n",
            "Episode: 19; Score: 500.0\n",
            "Episode: 20; Score: 500.0\n",
            "Episode: 21; Score: 500.0\n",
            "Episode: 22; Score: 500.0\n",
            "Episode: 23; Score: 500.0\n",
            "Episode: 24; Score: 500.0\n",
            "Episode: 25; Score: 500.0\n",
            "Episode: 26; Score: 500.0\n",
            "Episode: 27; Score: 500.0\n",
            "Episode: 28; Score: 500.0\n",
            "Episode: 29; Score: 500.0\n",
            "Episode: 30; Score: 500.0\n",
            "Episode: 31; Score: 500.0\n",
            "Episode: 32; Score: 500.0\n",
            "Episode: 33; Score: 500.0\n",
            "Episode: 34; Score: 500.0\n",
            "Episode: 35; Score: 500.0\n",
            "Episode: 36; Score: 500.0\n",
            "Episode: 37; Score: 500.0\n",
            "Episode: 38; Score: 500.0\n",
            "Episode: 39; Score: 500.0\n",
            "Episode: 40; Score: 500.0\n",
            "Episode: 41; Score: 500.0\n",
            "Episode: 42; Score: 500.0\n",
            "Episode: 43; Score: 500.0\n",
            "Episode: 44; Score: 500.0\n",
            "Episode: 45; Score: 500.0\n",
            "Episode: 46; Score: 500.0\n",
            "Episode: 47; Score: 500.0\n",
            "Episode: 48; Score: 500.0\n",
            "Episode: 49; Score: 500.0\n",
            "Episode: 50; Score: 500.0\n",
            "Episode: 51; Score: 500.0\n",
            "Episode: 52; Score: 500.0\n",
            "Episode: 53; Score: 500.0\n",
            "Episode: 54; Score: 500.0\n",
            "Episode: 55; Score: 500.0\n",
            "Episode: 56; Score: 500.0\n",
            "Episode: 57; Score: 500.0\n",
            "Episode: 58; Score: 500.0\n",
            "Episode: 59; Score: 500.0\n",
            "Episode: 60; Score: 500.0\n",
            "Episode: 61; Score: 500.0\n",
            "Episode: 62; Score: 500.0\n",
            "Episode: 63; Score: 500.0\n",
            "Episode: 64; Score: 500.0\n",
            "Episode: 65; Score: 500.0\n",
            "Episode: 66; Score: 500.0\n",
            "Episode: 67; Score: 500.0\n",
            "Episode: 68; Score: 500.0\n",
            "Episode: 69; Score: 500.0\n",
            "Episode: 70; Score: 500.0\n",
            "Episode: 71; Score: 500.0\n",
            "Episode: 72; Score: 500.0\n",
            "Episode: 73; Score: 500.0\n",
            "Episode: 74; Score: 500.0\n",
            "Episode: 75; Score: 500.0\n",
            "Episode: 76; Score: 500.0\n",
            "Episode: 77; Score: 500.0\n",
            "Episode: 78; Score: 500.0\n",
            "Episode: 79; Score: 500.0\n",
            "Episode: 80; Score: 500.0\n",
            "Episode: 81; Score: 500.0\n",
            "Episode: 82; Score: 500.0\n",
            "Episode: 83; Score: 500.0\n",
            "Episode: 84; Score: 500.0\n",
            "Episode: 85; Score: 500.0\n",
            "Episode: 86; Score: 500.0\n",
            "Episode: 87; Score: 500.0\n",
            "Episode: 88; Score: 217.0\n",
            "Episode: 89; Score: 500.0\n",
            "Episode: 90; Score: 500.0\n",
            "Episode: 91; Score: 500.0\n",
            "Episode: 92; Score: 500.0\n",
            "Episode: 93; Score: 500.0\n",
            "Episode: 94; Score: 500.0\n",
            "Episode: 95; Score: 500.0\n",
            "Episode: 96; Score: 500.0\n",
            "Episode: 97; Score: 500.0\n",
            "Episode: 98; Score: 500.0\n",
            "Episode: 99; Score: 500.0\n",
            "Average score: 497.14141414141415\n"
          ]
        }
      ],
      "source": [
        "sum_episode_scores = []\n",
        "\n",
        "# Run 100 episodes\n",
        "for episode in range(1, 100):\n",
        "    score = 0  # Initialize reward score for the episode\n",
        "    obs = env.reset()  # Reset the environment to start a new episode\n",
        "    done = False  # Flag to indicate whether the episode is complete\n",
        "    state = 0  # Counter to track the number of steps in the episode\n",
        "\n",
        "    # Run the episode until termination\n",
        "    while True:\n",
        "        action = model.predict(obs)[0]  # Get action from the model\n",
        "        n_state, reward, done, info = env.step(action)  # Take action in the environment\n",
        "        # Check if termination conditions are met\n",
        "        if abs(n_state[0]) > 2.4 or abs(n_state[2]) > 0.209 or state == 500:\n",
        "            break\n",
        "        obs = n_state  # Update the observation\n",
        "        score += reward  # Accumulate the reward\n",
        "        state += 1  # Increment the step counter\n",
        "\n",
        "    # Print episode information\n",
        "    print(f'Episode: {episode}; Score: {score}')\n",
        "\n",
        "    # Store the score for the episode\n",
        "    sum_episode_scores.append(score)\n",
        "\n",
        "# Calculate and print the average score over all episodes\n",
        "average_score = sum(sum_episode_scores) / len(sum_episode_scores)\n",
        "print(\"Average score:\", average_score)\n",
        "\n",
        "# Close the environment\n",
        "env.close()"
      ]
    },
    {
      "cell_type": "code",
      "execution_count": 204,
      "id": "MEBmcdRLRqq-",
      "metadata": {
        "colab": {
          "base_uri": "https://localhost:8080/",
          "height": 472
        },
        "id": "MEBmcdRLRqq-",
        "outputId": "d77356f9-c5f0-4b1c-cc79-a89011ca9b1e"
      },
      "outputs": [
        {
          "data": {
            "image/png": "[encoded data removed]",
            "text/plain": [
              "<Figure size 640x480 with 1 Axes>"
            ]
          },
          "metadata": {},
          "output_type": "display_data"
        }
      ],
      "source": [
        "# Plotting the Results of the 100 Episodes over the cumulative reward\n",
        "plt.plot(sum_episode_scores)\n",
        "plt.title(\"Cumulative reward for each episode\")\n",
        "plt.ylabel(\"Cumulative reward\")\n",
        "plt.xlabel(\"Episode\")\n",
        "\n",
        "plt.show()"
      ]
    },
    {
      "cell_type": "markdown",
      "id": "f50c27b1",
      "metadata": {
        "id": "f50c27b1"
      },
      "source": [
        "### Task 3: Render one episode played by the developed RL agent on the Jupyter Notebook (10 Marks)"
      ]
    },
    {
      "cell_type": "code",
      "execution_count": 205,
      "id": "OtQOaMO_RrAx",
      "metadata": {
        "colab": {
          "base_uri": "https://localhost:8080/",
          "height": 439
        },
        "id": "OtQOaMO_RrAx",
        "outputId": "0a0a72b9-e8d7-4d93-a050-4c0d9e03168d"
      },
      "outputs": [
        {
          "data": {
            "text/html": [
              "<video alt=\"test\" autoplay \n",
              "                     loop controls style=\"height: 400px;\">\n",
              "                     <source src=\"data:video/mp4;base64,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\" type=\"video/mp4\" />\n",
              "                     </video>"
            ],
            "text/plain": [
              "<IPython.core.display.HTML object>"
            ]
          },
          "metadata": {},
          "output_type": "display_data"
        },
        {
          "name": "stdout",
          "output_type": "stream",
          "text": [
            "This Episode's reward is: 500.0\n"
          ]
        }
      ],
      "source": [
        "# Record the video of the environment\n",
        "env = RecordVideo(gym.make(\"CartPole-v1\"), \"./video\")\n",
        "\n",
        "# Reset the environment and get initial observation\n",
        "observation = env.reset()\n",
        "\n",
        "# Initialize variables to track total score and current state\n",
        "total_score = 0\n",
        "current_state = 0\n",
        "\n",
        "# Loop until the episode terminates\n",
        "while True:\n",
        "    # Predict the action using the model\n",
        "    action = model.predict(observation)[0]\n",
        "\n",
        "    # Take the predicted action in the environment\n",
        "    n_state, reward, done, info = env.step(int(action))\n",
        "\n",
        "    # Check termination conditions\n",
        "    if abs(n_state[0]) > 2.4 or abs(n_state[2]) > 0.209 or current_state == 500:\n",
        "        break\n",
        "\n",
        "    # Update observation, total score, and current state\n",
        "    observation = n_state\n",
        "    total_score += reward\n",
        "    current_state += 1\n",
        "\n",
        "# Close the environment\n",
        "env.close()\n",
        "\n",
        "# Show the recorded video\n",
        "show_video()\n",
        "\n",
        "# Print the total score for the episode\n",
        "print(\"This Episode's reward is:\", total_score)"
      ]
    },
    {
      "cell_type": "markdown",
      "id": "5bbc1ef5",
      "metadata": {
        "id": "5bbc1ef5"
      },
      "source": [
        "### Task 4: Format the Jupyter Notebook by including step-by-step instructions and explanations, such that the notebook is easy to follow and run (20 Marks)\n",
        "Include text explanation to demonstrate the originality of your implementation and your understanding of the code. For example, for each task, explain your approach and analyze the output; if you improve an exisiting approach, explain your improvements."
      ]
    },
    {
      "cell_type": "markdown",
      "id": "86076dad",
      "metadata": {
        "id": "86076dad"
      },
      "source": [
        "## 2.2 Output Format\n",
        "All codes are to be included in a single Jupyter notebook written in Python (i.e., .ipynb file).\n",
        "1.\tInclude all codes for Task 1-4. Note that the submission is invalid if it only contains the outputs and plots without codes to obtain it.\n",
        "2.\tRun the notebook before submission to save the output in the notebook, i.e., by opening the ipynb file (without running it), one can see the outputs and plots for Task 1-3\n",
        "3.\tMake sure the Jupyter notebook is runnable, i.e., by running each code block sequentially from top to bottom, one can get the results for Task 1-3. The TAs may run your notebook.\n",
        "4.\tUnless you are experienced with Jupyter, it is recommended to modify from the provided Jupyter notebook sample, rather than creating a new one.\n",
        "5.\tIf the developed RL agent is a trainable neural network, submit a .zip file by zipping the trained model parameters (e.g., .pth for PyTorch) and the ipynb file. In this case, your notebook must include the training code and model loading code.\n",
        "6.\tContribution: Please clearly state the contribution of each team member in the beginning of the Jupyter notebook if you have more than one member in your team."
      ]
    },
    {
      "cell_type": "markdown",
      "id": "BL4gZf4FMQ49",
      "metadata": {
        "id": "BL4gZf4FMQ49"
      },
      "source": [
        "# References:\n",
        "PPO Definition: https://en.wikipedia.org/wiki/Proximal_policy_optimization\n",
        "\n",
        "PPO Algorithm: https://spinningup.openai.com/en/latest/algorithms/ppo.html\n",
        "\n",
        "Multilayer Perceptron Model: https://www.analyticsvidhya.com/blog/2020/12/mlp-multilayer-perceptron-simple-overview/\n",
        "\n",
        "OpenAI Baselines: https://stable-baselines3.readthedocs.io/en/master/modules/ppo.html\n",
        "\n",
        "PPO Implementation from stable-baseline3 Code: https://github.com/DLR-RM/stable-baselines3/tree/master/stable_baselines3/ppo"
      ]
    }
  ],
  "metadata": {
    "colab": {
      "provenance": []
    },
    "kernelspec": {
      "display_name": "Python 3 (ipykernel)",
      "language": "python",
      "name": "python3"
    },
    "language_info": {
      "codemirror_mode": {
        "name": "ipython",
        "version": 3
      },
      "file_extension": ".py",
      "mimetype": "text/x-python",
      "name": "python",
      "nbconvert_exporter": "python",
      "pygments_lexer": "ipython3",
      "version": "3.9.13"
    },
    "widgets": {
      "application/vnd.jupyter.widget-state+json": {
        "3555e7204afd485eb75edd741bd1e207": {
          "model_module": "@jupyter-widgets/base",
          "model_module_version": "1.2.0",
          "model_name": "LayoutModel",
          "state": {
            "_model_module": "@jupyter-widgets/base",
            "_model_module_version": "1.2.0",
            "_model_name": "LayoutModel",
            "_view_count": null,
            "_view_module": "@jupyter-widgets/base",
            "_view_module_version": "1.2.0",
            "_view_name": "LayoutView",
            "align_content": null,
            "align_items": null,
            "align_self": null,
            "border": null,
            "bottom": null,
            "display": null,
            "flex": null,
            "flex_flow": null,
            "grid_area": null,
            "grid_auto_columns": null,
            "grid_auto_flow": null,
            "grid_auto_rows": null,
            "grid_column": null,
            "grid_gap": null,
            "grid_row": null,
            "grid_template_areas": null,
            "grid_template_columns": null,
            "grid_template_rows": null,
            "height": null,
            "justify_content": null,
            "justify_items": null,
            "left": null,
            "margin": null,
            "max_height": null,
            "max_width": null,
            "min_height": null,
            "min_width": null,
            "object_fit": null,
            "object_position": null,
            "order": null,
            "overflow": null,
            "overflow_x": null,
            "overflow_y": null,
            "padding": null,
            "right": null,
            "top": null,
            "visibility": null,
            "width": null
          }
        },
        "41b8f77b997b4c0bb3bbb52227ccccf7": {
          "model_module": "@jupyter-widgets/output",
          "model_module_version": "1.0.0",
          "model_name": "OutputModel",
          "state": {
            "_dom_classes": [],
            "_model_module": "@jupyter-widgets/output",
            "_model_module_version": "1.0.0",
            "_model_name": "OutputModel",
            "_view_count": null,
            "_view_module": "@jupyter-widgets/output",
            "_view_module_version": "1.0.0",
            "_view_name": "OutputView",
            "layout": "IPY_MODEL_3555e7204afd485eb75edd741bd1e207",
            "msg_id": "",
            "outputs": [
              {
                "data": {
                  "text/html": "<pre style=\"white-space:pre;overflow-x:auto;line-height:normal;font-family:Menlo,'DejaVu Sans Mono',consolas,'Courier New',monospace\"><span style=\"color: #800080; text-decoration-color: #800080\"> 100%</span> <span style=\"color: #729c1f; text-decoration-color: #729c1f\">━━━━━━━━━━━━━━━━━━━━━━━━━━━━━━━━━━━━━━━━━━━━━━━━━━━━━━━━━━━━━</span> <span style=\"color: #008000; text-decoration-color: #008000\">30,698/30,000 </span> [ <span style=\"color: #808000; text-decoration-color: #808000\">0:01:20</span> &lt; <span style=\"color: #008080; text-decoration-color: #008080\">0:00:00</span> , <span style=\"color: #800000; text-decoration-color: #800000\">464 it/s</span> ]\n</pre>\n",
                  "text/plain": "\u001b[35m 100%\u001b[0m \u001b[38;2;114;156;31m━━━━━━━━━━━━━━━━━━━━━━━━━━━━━━━━━━━━━━━━━━━━━━━━━━━━━━━━━━━━━\u001b[0m \u001b[32m30,698/30,000 \u001b[0m [ \u001b[33m0:01:20\u001b[0m < \u001b[36m0:00:00\u001b[0m , \u001b[31m464 it/s\u001b[0m ]\n"
                },
                "metadata": {},
                "output_type": "display_data"
              }
            ]
          }
        }
      }
    }
  },
  "nbformat": 4,
  "nbformat_minor": 5
}
